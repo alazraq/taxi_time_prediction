{
 "cells": [
  {
   "cell_type": "markdown",
   "metadata": {},
   "source": [
    "# INTRODUCTION"
   ]
  },
  {
   "cell_type": "markdown",
   "metadata": {},
   "source": [
    "# EXPLORATORY DATA ANALYSIS"
   ]
  },
  {
   "cell_type": "markdown",
   "metadata": {},
   "source": [
    "## Business understanding of the problem"
   ]
  },
  {
   "cell_type": "markdown",
   "metadata": {},
   "source": [
    "## Loading & First exploration"
   ]
  },
  {
   "cell_type": "markdown",
   "metadata": {},
   "source": [
    "### Preliminary loading "
   ]
  },
  {
   "cell_type": "code",
   "execution_count": 2,
   "metadata": {
    "ExecuteTime": {
     "end_time": "2020-10-01T19:50:45.082455Z",
     "start_time": "2020-10-01T19:50:45.077524Z"
    }
   },
   "outputs": [],
   "source": [
    "#Loading the necessary packages\n",
    "import pandas as pd\n",
    "import numpy as np\n",
    "import math\n",
    "import matplotlib.pyplot as plt\n",
    "import seaborn as sns\n",
    "from datetime import datetime, timedelta\n",
    "from scipy import stats\n",
    "from sklearn.model_selection import train_test_split"
   ]
  },
  {
   "cell_type": "code",
   "execution_count": 3,
   "metadata": {
    "ExecuteTime": {
     "end_time": "2020-10-01T19:50:49.119686Z",
     "start_time": "2020-10-01T19:50:46.697244Z"
    }
   },
   "outputs": [
    {
     "name": "stderr",
     "output_type": "stream",
     "text": [
      "/opt/conda/lib/python3.7/site-packages/IPython/core/interactiveshell.py:3146: DtypeWarning: Columns (1,2) have mixed types.Specify dtype option on import or set low_memory=False.\n",
      "  interactivity=interactivity, compiler=compiler, result=result)\n"
     ]
    }
   ],
   "source": [
    "#Loading the datasets\n",
    "df_airport = pd.read_csv(\"Raw_data/training_set_airport_data.csv\")\n",
    "df_geographic = pd.read_csv(\"Prepared_data/new_geographic_data.csv\", sep = \";\")\n",
    "df_weather = pd.read_csv(\"Raw_data/Weather_data/weather_data_train_set.csv\")\n",
    "df_aircraft = pd.read_csv(\"Prepared_data/ACchar.csv\", sep = \";\")"
   ]
  },
  {
   "cell_type": "markdown",
   "metadata": {},
   "source": [
    "### EDA of the training set airport data"
   ]
  },
  {
   "cell_type": "code",
   "execution_count": 6,
   "metadata": {
    "ExecuteTime": {
     "end_time": "2020-10-01T19:50:50.600954Z",
     "start_time": "2020-10-01T19:50:50.586315Z"
    }
   },
   "outputs": [
    {
     "data": {
      "text/html": [
       "<div>\n",
       "<style scoped>\n",
       "    .dataframe tbody tr th:only-of-type {\n",
       "        vertical-align: middle;\n",
       "    }\n",
       "\n",
       "    .dataframe tbody tr th {\n",
       "        vertical-align: top;\n",
       "    }\n",
       "\n",
       "    .dataframe thead th {\n",
       "        text-align: right;\n",
       "    }\n",
       "</style>\n",
       "<table border=\"1\" class=\"dataframe\">\n",
       "  <thead>\n",
       "    <tr style=\"text-align: right;\">\n",
       "      <th></th>\n",
       "      <th>Flight Datetime</th>\n",
       "      <th>Aircraft Model</th>\n",
       "      <th>AOBT</th>\n",
       "      <th>ATOT</th>\n",
       "      <th>Stand</th>\n",
       "      <th>Runway</th>\n",
       "    </tr>\n",
       "  </thead>\n",
       "  <tbody>\n",
       "    <tr>\n",
       "      <th>0</th>\n",
       "      <td>1/1/2015 6:00</td>\n",
       "      <td>B737-800 WINGLETS</td>\n",
       "      <td>1/1/2015 5:56</td>\n",
       "      <td>1/1/2015 6:05</td>\n",
       "      <td>STAND_62</td>\n",
       "      <td>RUNWAY_4</td>\n",
       "    </tr>\n",
       "    <tr>\n",
       "      <th>1</th>\n",
       "      <td>1/1/2015 6:10</td>\n",
       "      <td>A320-100/200</td>\n",
       "      <td>1/1/2015 6:08</td>\n",
       "      <td>1/1/2015 6:18</td>\n",
       "      <td>STAND_153</td>\n",
       "      <td>RUNWAY_4</td>\n",
       "    </tr>\n",
       "    <tr>\n",
       "      <th>2</th>\n",
       "      <td>1/1/2015 6:15</td>\n",
       "      <td>A320-100/200</td>\n",
       "      <td>1/1/2015 6:08</td>\n",
       "      <td>1/1/2015 6:19</td>\n",
       "      <td>STAND_44</td>\n",
       "      <td>RUNWAY_2</td>\n",
       "    </tr>\n",
       "    <tr>\n",
       "      <th>3</th>\n",
       "      <td>1/1/2015 6:20</td>\n",
       "      <td>A320-100/200</td>\n",
       "      <td>1/1/2015 6:24</td>\n",
       "      <td>1/1/2015 6:36</td>\n",
       "      <td>STAND_7</td>\n",
       "      <td>RUNWAY_3</td>\n",
       "    </tr>\n",
       "    <tr>\n",
       "      <th>4</th>\n",
       "      <td>1/1/2015 6:20</td>\n",
       "      <td>A319</td>\n",
       "      <td>1/1/2015 6:14</td>\n",
       "      <td>1/1/2015 6:27</td>\n",
       "      <td>STAND_17</td>\n",
       "      <td>RUNWAY_2</td>\n",
       "    </tr>\n",
       "  </tbody>\n",
       "</table>\n",
       "</div>"
      ],
      "text/plain": [
       "  Flight Datetime     Aircraft Model           AOBT           ATOT      Stand  \\\n",
       "0   1/1/2015 6:00  B737-800 WINGLETS  1/1/2015 5:56  1/1/2015 6:05   STAND_62   \n",
       "1   1/1/2015 6:10       A320-100/200  1/1/2015 6:08  1/1/2015 6:18  STAND_153   \n",
       "2   1/1/2015 6:15       A320-100/200  1/1/2015 6:08  1/1/2015 6:19   STAND_44   \n",
       "3   1/1/2015 6:20       A320-100/200  1/1/2015 6:24  1/1/2015 6:36    STAND_7   \n",
       "4   1/1/2015 6:20               A319  1/1/2015 6:14  1/1/2015 6:27   STAND_17   \n",
       "\n",
       "     Runway  \n",
       "0  RUNWAY_4  \n",
       "1  RUNWAY_4  \n",
       "2  RUNWAY_2  \n",
       "3  RUNWAY_3  \n",
       "4  RUNWAY_2  "
      ]
     },
     "execution_count": 6,
     "metadata": {},
     "output_type": "execute_result"
    }
   ],
   "source": [
    "df_airport.head()"
   ]
  },
  {
   "cell_type": "code",
   "execution_count": 4,
   "metadata": {
    "ExecuteTime": {
     "end_time": "2020-10-01T19:50:51.420163Z",
     "start_time": "2020-10-01T19:50:51.335503Z"
    }
   },
   "outputs": [],
   "source": [
    "#Rename the columns\n",
    "df_airport.rename(columns={'Flight Datetime':'flight_dt',\n",
    "                          'Aircraft Model':'aircraft_model'}, \n",
    "                 inplace=True)"
   ]
  },
  {
   "cell_type": "code",
   "execution_count": 8,
   "metadata": {
    "ExecuteTime": {
     "end_time": "2020-10-01T19:50:54.178255Z",
     "start_time": "2020-10-01T19:50:52.239118Z"
    }
   },
   "outputs": [
    {
     "data": {
      "text/html": [
       "<div>\n",
       "<style scoped>\n",
       "    .dataframe tbody tr th:only-of-type {\n",
       "        vertical-align: middle;\n",
       "    }\n",
       "\n",
       "    .dataframe tbody tr th {\n",
       "        vertical-align: top;\n",
       "    }\n",
       "\n",
       "    .dataframe thead th {\n",
       "        text-align: right;\n",
       "    }\n",
       "</style>\n",
       "<table border=\"1\" class=\"dataframe\">\n",
       "  <thead>\n",
       "    <tr style=\"text-align: right;\">\n",
       "      <th></th>\n",
       "      <th>flight_dt</th>\n",
       "      <th>aircraft_model</th>\n",
       "      <th>AOBT</th>\n",
       "      <th>ATOT</th>\n",
       "      <th>Stand</th>\n",
       "      <th>Runway</th>\n",
       "    </tr>\n",
       "  </thead>\n",
       "  <tbody>\n",
       "    <tr>\n",
       "      <th>count</th>\n",
       "      <td>543813</td>\n",
       "      <td>543813</td>\n",
       "      <td>543813</td>\n",
       "      <td>543813</td>\n",
       "      <td>543813</td>\n",
       "      <td>543813</td>\n",
       "    </tr>\n",
       "    <tr>\n",
       "      <th>unique</th>\n",
       "      <td>244764</td>\n",
       "      <td>143</td>\n",
       "      <td>461674</td>\n",
       "      <td>538720</td>\n",
       "      <td>166</td>\n",
       "      <td>4</td>\n",
       "    </tr>\n",
       "    <tr>\n",
       "      <th>top</th>\n",
       "      <td>5/2/2015 6:10</td>\n",
       "      <td>A319</td>\n",
       "      <td>4/24/2018 18:35</td>\n",
       "      <td>8/15/2015 6:36</td>\n",
       "      <td>STAND_61</td>\n",
       "      <td>RUNWAY_2</td>\n",
       "    </tr>\n",
       "    <tr>\n",
       "      <th>freq</th>\n",
       "      <td>9</td>\n",
       "      <td>178048</td>\n",
       "      <td>5</td>\n",
       "      <td>3</td>\n",
       "      <td>3453</td>\n",
       "      <td>136375</td>\n",
       "    </tr>\n",
       "  </tbody>\n",
       "</table>\n",
       "</div>"
      ],
      "text/plain": [
       "            flight_dt aircraft_model             AOBT            ATOT  \\\n",
       "count          543813         543813           543813          543813   \n",
       "unique         244764            143           461674          538720   \n",
       "top     5/2/2015 6:10           A319  4/24/2018 18:35  8/15/2015 6:36   \n",
       "freq                9         178048                5               3   \n",
       "\n",
       "           Stand    Runway  \n",
       "count     543813    543813  \n",
       "unique       166         4  \n",
       "top     STAND_61  RUNWAY_2  \n",
       "freq        3453    136375  "
      ]
     },
     "execution_count": 8,
     "metadata": {},
     "output_type": "execute_result"
    }
   ],
   "source": [
    "df_airport.describe()"
   ]
  },
  {
   "cell_type": "code",
   "execution_count": 5,
   "metadata": {
    "ExecuteTime": {
     "end_time": "2020-10-01T19:50:59.036096Z",
     "start_time": "2020-10-01T19:50:54.869214Z"
    }
   },
   "outputs": [
    {
     "data": {
      "text/html": [
       "<div>\n",
       "<style scoped>\n",
       "    .dataframe tbody tr th:only-of-type {\n",
       "        vertical-align: middle;\n",
       "    }\n",
       "\n",
       "    .dataframe tbody tr th {\n",
       "        vertical-align: top;\n",
       "    }\n",
       "\n",
       "    .dataframe thead th {\n",
       "        text-align: right;\n",
       "    }\n",
       "</style>\n",
       "<table border=\"1\" class=\"dataframe\">\n",
       "  <thead>\n",
       "    <tr style=\"text-align: right;\">\n",
       "      <th></th>\n",
       "      <th>flight_dt</th>\n",
       "      <th>aircraft_model</th>\n",
       "      <th>AOBT</th>\n",
       "      <th>ATOT</th>\n",
       "      <th>Stand</th>\n",
       "      <th>Runway</th>\n",
       "    </tr>\n",
       "  </thead>\n",
       "  <tbody>\n",
       "    <tr>\n",
       "      <th>0</th>\n",
       "      <td>2015-01-01 06:00:00</td>\n",
       "      <td>B737-800 WINGLETS</td>\n",
       "      <td>2015-01-01 05:56:00</td>\n",
       "      <td>2015-01-01 06:05:00</td>\n",
       "      <td>STAND_62</td>\n",
       "      <td>RUNWAY_4</td>\n",
       "    </tr>\n",
       "    <tr>\n",
       "      <th>1</th>\n",
       "      <td>2015-01-01 06:10:00</td>\n",
       "      <td>A320-100/200</td>\n",
       "      <td>2015-01-01 06:08:00</td>\n",
       "      <td>2015-01-01 06:18:00</td>\n",
       "      <td>STAND_153</td>\n",
       "      <td>RUNWAY_4</td>\n",
       "    </tr>\n",
       "    <tr>\n",
       "      <th>2</th>\n",
       "      <td>2015-01-01 06:15:00</td>\n",
       "      <td>A320-100/200</td>\n",
       "      <td>2015-01-01 06:08:00</td>\n",
       "      <td>2015-01-01 06:19:00</td>\n",
       "      <td>STAND_44</td>\n",
       "      <td>RUNWAY_2</td>\n",
       "    </tr>\n",
       "    <tr>\n",
       "      <th>3</th>\n",
       "      <td>2015-01-01 06:20:00</td>\n",
       "      <td>A320-100/200</td>\n",
       "      <td>2015-01-01 06:24:00</td>\n",
       "      <td>2015-01-01 06:36:00</td>\n",
       "      <td>STAND_7</td>\n",
       "      <td>RUNWAY_3</td>\n",
       "    </tr>\n",
       "    <tr>\n",
       "      <th>4</th>\n",
       "      <td>2015-01-01 06:20:00</td>\n",
       "      <td>A319</td>\n",
       "      <td>2015-01-01 06:14:00</td>\n",
       "      <td>2015-01-01 06:27:00</td>\n",
       "      <td>STAND_17</td>\n",
       "      <td>RUNWAY_2</td>\n",
       "    </tr>\n",
       "  </tbody>\n",
       "</table>\n",
       "</div>"
      ],
      "text/plain": [
       "            flight_dt     aircraft_model                AOBT  \\\n",
       "0 2015-01-01 06:00:00  B737-800 WINGLETS 2015-01-01 05:56:00   \n",
       "1 2015-01-01 06:10:00       A320-100/200 2015-01-01 06:08:00   \n",
       "2 2015-01-01 06:15:00       A320-100/200 2015-01-01 06:08:00   \n",
       "3 2015-01-01 06:20:00       A320-100/200 2015-01-01 06:24:00   \n",
       "4 2015-01-01 06:20:00               A319 2015-01-01 06:14:00   \n",
       "\n",
       "                 ATOT      Stand    Runway  \n",
       "0 2015-01-01 06:05:00   STAND_62  RUNWAY_4  \n",
       "1 2015-01-01 06:18:00  STAND_153  RUNWAY_4  \n",
       "2 2015-01-01 06:19:00   STAND_44  RUNWAY_2  \n",
       "3 2015-01-01 06:36:00    STAND_7  RUNWAY_3  \n",
       "4 2015-01-01 06:27:00   STAND_17  RUNWAY_2  "
      ]
     },
     "execution_count": 5,
     "metadata": {},
     "output_type": "execute_result"
    }
   ],
   "source": [
    "#Convert date string into date format\n",
    "df_airport['flight_dt'] =  pd.to_datetime(df_airport['flight_dt'], format='%m/%d/%Y %H:%M')\n",
    "df_airport['AOBT'] =  pd.to_datetime(df_airport['AOBT'], format='%m/%d/%Y %H:%M')\n",
    "df_airport['ATOT'] =  pd.to_datetime(df_airport['ATOT'], format='%m/%d/%Y %H:%M')\n",
    "df_airport.head()"
   ]
  },
  {
   "cell_type": "code",
   "execution_count": 6,
   "metadata": {
    "ExecuteTime": {
     "end_time": "2020-10-01T19:51:37.956811Z",
     "start_time": "2020-10-01T19:50:59.546917Z"
    }
   },
   "outputs": [],
   "source": [
    "# Create a function that computes the TaxiTime in minutes\n",
    "def DatetimeToTaxitime(datetime1, datetime2):\n",
    "    difference = datetime2 - datetime1\n",
    "    taxitime = difference.value / 6e10\n",
    "    return taxitime\n",
    "\n",
    "# Compute the taxitime in the airport dataframe \n",
    "df_airport['taxitime'] = df_airport.apply(lambda x: DatetimeToTaxitime(x.AOBT, x.ATOT), axis =1)"
   ]
  },
  {
   "cell_type": "code",
   "execution_count": 11,
   "metadata": {
    "ExecuteTime": {
     "end_time": "2020-10-01T19:51:40.118343Z",
     "start_time": "2020-10-01T19:51:40.095751Z"
    }
   },
   "outputs": [
    {
     "data": {
      "text/html": [
       "<div>\n",
       "<style scoped>\n",
       "    .dataframe tbody tr th:only-of-type {\n",
       "        vertical-align: middle;\n",
       "    }\n",
       "\n",
       "    .dataframe tbody tr th {\n",
       "        vertical-align: top;\n",
       "    }\n",
       "\n",
       "    .dataframe thead th {\n",
       "        text-align: right;\n",
       "    }\n",
       "</style>\n",
       "<table border=\"1\" class=\"dataframe\">\n",
       "  <thead>\n",
       "    <tr style=\"text-align: right;\">\n",
       "      <th></th>\n",
       "      <th>flight_dt</th>\n",
       "      <th>aircraft_model</th>\n",
       "      <th>AOBT</th>\n",
       "      <th>ATOT</th>\n",
       "      <th>Stand</th>\n",
       "      <th>Runway</th>\n",
       "      <th>taxitime</th>\n",
       "    </tr>\n",
       "  </thead>\n",
       "  <tbody>\n",
       "    <tr>\n",
       "      <th>0</th>\n",
       "      <td>2015-01-01 06:00:00</td>\n",
       "      <td>B737-800 WINGLETS</td>\n",
       "      <td>2015-01-01 05:56:00</td>\n",
       "      <td>2015-01-01 06:05:00</td>\n",
       "      <td>STAND_62</td>\n",
       "      <td>RUNWAY_4</td>\n",
       "      <td>9.0</td>\n",
       "    </tr>\n",
       "    <tr>\n",
       "      <th>1</th>\n",
       "      <td>2015-01-01 06:10:00</td>\n",
       "      <td>A320-100/200</td>\n",
       "      <td>2015-01-01 06:08:00</td>\n",
       "      <td>2015-01-01 06:18:00</td>\n",
       "      <td>STAND_153</td>\n",
       "      <td>RUNWAY_4</td>\n",
       "      <td>10.0</td>\n",
       "    </tr>\n",
       "    <tr>\n",
       "      <th>2</th>\n",
       "      <td>2015-01-01 06:15:00</td>\n",
       "      <td>A320-100/200</td>\n",
       "      <td>2015-01-01 06:08:00</td>\n",
       "      <td>2015-01-01 06:19:00</td>\n",
       "      <td>STAND_44</td>\n",
       "      <td>RUNWAY_2</td>\n",
       "      <td>11.0</td>\n",
       "    </tr>\n",
       "    <tr>\n",
       "      <th>3</th>\n",
       "      <td>2015-01-01 06:20:00</td>\n",
       "      <td>A320-100/200</td>\n",
       "      <td>2015-01-01 06:24:00</td>\n",
       "      <td>2015-01-01 06:36:00</td>\n",
       "      <td>STAND_7</td>\n",
       "      <td>RUNWAY_3</td>\n",
       "      <td>12.0</td>\n",
       "    </tr>\n",
       "    <tr>\n",
       "      <th>4</th>\n",
       "      <td>2015-01-01 06:20:00</td>\n",
       "      <td>A319</td>\n",
       "      <td>2015-01-01 06:14:00</td>\n",
       "      <td>2015-01-01 06:27:00</td>\n",
       "      <td>STAND_17</td>\n",
       "      <td>RUNWAY_2</td>\n",
       "      <td>13.0</td>\n",
       "    </tr>\n",
       "  </tbody>\n",
       "</table>\n",
       "</div>"
      ],
      "text/plain": [
       "            flight_dt     aircraft_model                AOBT  \\\n",
       "0 2015-01-01 06:00:00  B737-800 WINGLETS 2015-01-01 05:56:00   \n",
       "1 2015-01-01 06:10:00       A320-100/200 2015-01-01 06:08:00   \n",
       "2 2015-01-01 06:15:00       A320-100/200 2015-01-01 06:08:00   \n",
       "3 2015-01-01 06:20:00       A320-100/200 2015-01-01 06:24:00   \n",
       "4 2015-01-01 06:20:00               A319 2015-01-01 06:14:00   \n",
       "\n",
       "                 ATOT      Stand    Runway  taxitime  \n",
       "0 2015-01-01 06:05:00   STAND_62  RUNWAY_4       9.0  \n",
       "1 2015-01-01 06:18:00  STAND_153  RUNWAY_4      10.0  \n",
       "2 2015-01-01 06:19:00   STAND_44  RUNWAY_2      11.0  \n",
       "3 2015-01-01 06:36:00    STAND_7  RUNWAY_3      12.0  \n",
       "4 2015-01-01 06:27:00   STAND_17  RUNWAY_2      13.0  "
      ]
     },
     "execution_count": 11,
     "metadata": {},
     "output_type": "execute_result"
    }
   ],
   "source": [
    "df_airport.head()"
   ]
  },
  {
   "cell_type": "code",
   "execution_count": 12,
   "metadata": {
    "ExecuteTime": {
     "end_time": "2020-10-01T19:51:40.363122Z",
     "start_time": "2020-10-01T19:51:40.312507Z"
    }
   },
   "outputs": [
    {
     "data": {
      "text/html": [
       "<div>\n",
       "<style scoped>\n",
       "    .dataframe tbody tr th:only-of-type {\n",
       "        vertical-align: middle;\n",
       "    }\n",
       "\n",
       "    .dataframe tbody tr th {\n",
       "        vertical-align: top;\n",
       "    }\n",
       "\n",
       "    .dataframe thead th {\n",
       "        text-align: right;\n",
       "    }\n",
       "</style>\n",
       "<table border=\"1\" class=\"dataframe\">\n",
       "  <thead>\n",
       "    <tr style=\"text-align: right;\">\n",
       "      <th></th>\n",
       "      <th>taxitime</th>\n",
       "    </tr>\n",
       "  </thead>\n",
       "  <tbody>\n",
       "    <tr>\n",
       "      <th>count</th>\n",
       "      <td>543813.000000</td>\n",
       "    </tr>\n",
       "    <tr>\n",
       "      <th>mean</th>\n",
       "      <td>18.754785</td>\n",
       "    </tr>\n",
       "    <tr>\n",
       "      <th>std</th>\n",
       "      <td>8.172083</td>\n",
       "    </tr>\n",
       "    <tr>\n",
       "      <th>min</th>\n",
       "      <td>-218.000000</td>\n",
       "    </tr>\n",
       "    <tr>\n",
       "      <th>25%</th>\n",
       "      <td>14.000000</td>\n",
       "    </tr>\n",
       "    <tr>\n",
       "      <th>50%</th>\n",
       "      <td>18.000000</td>\n",
       "    </tr>\n",
       "    <tr>\n",
       "      <th>75%</th>\n",
       "      <td>22.000000</td>\n",
       "    </tr>\n",
       "    <tr>\n",
       "      <th>max</th>\n",
       "      <td>656.000000</td>\n",
       "    </tr>\n",
       "  </tbody>\n",
       "</table>\n",
       "</div>"
      ],
      "text/plain": [
       "            taxitime\n",
       "count  543813.000000\n",
       "mean       18.754785\n",
       "std         8.172083\n",
       "min      -218.000000\n",
       "25%        14.000000\n",
       "50%        18.000000\n",
       "75%        22.000000\n",
       "max       656.000000"
      ]
     },
     "execution_count": 12,
     "metadata": {},
     "output_type": "execute_result"
    }
   ],
   "source": [
    "df_airport.describe()"
   ]
  },
  {
   "cell_type": "code",
   "execution_count": 13,
   "metadata": {
    "ExecuteTime": {
     "end_time": "2020-10-01T19:51:40.782482Z",
     "start_time": "2020-10-01T19:51:40.693614Z"
    }
   },
   "outputs": [
    {
     "data": {
      "text/plain": [
       "flight_dt         0\n",
       "aircraft_model    0\n",
       "AOBT              0\n",
       "ATOT              0\n",
       "Stand             0\n",
       "Runway            0\n",
       "taxitime          0\n",
       "dtype: int64"
      ]
     },
     "execution_count": 13,
     "metadata": {},
     "output_type": "execute_result"
    }
   ],
   "source": [
    "#NA search: No NA to clean\n",
    "df_airport.isnull().sum()"
   ]
  },
  {
   "cell_type": "code",
   "execution_count": 14,
   "metadata": {
    "ExecuteTime": {
     "end_time": "2020-10-01T19:51:41.265829Z",
     "start_time": "2020-10-01T19:51:41.024913Z"
    }
   },
   "outputs": [
    {
     "data": {
      "image/png": "[encoded data removed]",
      "text/plain": [
       "<Figure size 432x288 with 1 Axes>"
      ]
     },
     "metadata": {
      "needs_background": "light"
     },
     "output_type": "display_data"
    }
   ],
   "source": [
    "#Outliers search - there seems to some outliers \n",
    "# For some outiliers the ATOT is before the AOBT: there is a mistake so we should delete them\n",
    "# For the others, we will see a strategy to handle the outliers in the data preparation section\n",
    "ax = sns.boxplot(df_airport[\"taxitime\"])"
   ]
  },
  {
   "cell_type": "code",
   "execution_count": 15,
   "metadata": {
    "ExecuteTime": {
     "end_time": "2020-10-01T19:51:41.934803Z",
     "start_time": "2020-10-01T19:51:41.458297Z"
    }
   },
   "outputs": [
    {
     "data": {
      "text/plain": [
       "<matplotlib.axes._subplots.AxesSubplot at 0x7fa97786bed0>"
      ]
     },
     "execution_count": 15,
     "metadata": {},
     "output_type": "execute_result"
    },
    {
     "data": {
      "image/png": "[encoded data removed]",
      "text/plain": [
       "<Figure size 432x288 with 1 Axes>"
      ]
     },
     "metadata": {
      "needs_background": "light"
     },
     "output_type": "display_data"
    }
   ],
   "source": [
    "#We observe a quasi normal distribution\n",
    "sns.distplot(df_airport[df_airport[\"taxitime\"] <100].taxitime)"
   ]
  },
  {
   "cell_type": "code",
   "execution_count": 7,
   "metadata": {
    "ExecuteTime": {
     "end_time": "2020-10-01T19:51:42.357279Z",
     "start_time": "2020-10-01T19:51:42.142012Z"
    }
   },
   "outputs": [],
   "source": [
    "df_airport1 = df_airport[df_airport['Runway'] == 'RUNWAY_1']\n",
    "df_airport2 = df_airport[df_airport['Runway'] == 'RUNWAY_2']\n",
    "df_airport3 = df_airport[df_airport['Runway'] == 'RUNWAY_3']\n",
    "df_airport4 = df_airport[df_airport['Runway'] == 'RUNWAY_4']"
   ]
  },
  {
   "cell_type": "markdown",
   "metadata": {},
   "source": [
    "### EDA of the geographic dataset"
   ]
  },
  {
   "cell_type": "code",
   "execution_count": 17,
   "metadata": {
    "ExecuteTime": {
     "end_time": "2020-10-01T19:51:43.412528Z",
     "start_time": "2020-10-01T19:51:43.398634Z"
    }
   },
   "outputs": [
    {
     "data": {
      "text/html": [
       "<div>\n",
       "<style scoped>\n",
       "    .dataframe tbody tr th:only-of-type {\n",
       "        vertical-align: middle;\n",
       "    }\n",
       "\n",
       "    .dataframe tbody tr th {\n",
       "        vertical-align: top;\n",
       "    }\n",
       "\n",
       "    .dataframe thead th {\n",
       "        text-align: right;\n",
       "    }\n",
       "</style>\n",
       "<table border=\"1\" class=\"dataframe\">\n",
       "  <thead>\n",
       "    <tr style=\"text-align: right;\">\n",
       "      <th></th>\n",
       "      <th>runway_stand</th>\n",
       "      <th>Lat_runway</th>\n",
       "      <th>Lng_runway</th>\n",
       "      <th>Lat_stand</th>\n",
       "      <th>Lng_stand</th>\n",
       "    </tr>\n",
       "  </thead>\n",
       "  <tbody>\n",
       "    <tr>\n",
       "      <th>0</th>\n",
       "      <td>RUNWAY_1STAND_1</td>\n",
       "      <td>54.755307</td>\n",
       "      <td>-0.02304</td>\n",
       "      <td>54.764575</td>\n",
       "      <td>0.000356</td>\n",
       "    </tr>\n",
       "    <tr>\n",
       "      <th>1</th>\n",
       "      <td>RUNWAY_1STAND_10</td>\n",
       "      <td>54.755307</td>\n",
       "      <td>-0.02304</td>\n",
       "      <td>54.764382</td>\n",
       "      <td>-0.001061</td>\n",
       "    </tr>\n",
       "    <tr>\n",
       "      <th>2</th>\n",
       "      <td>RUNWAY_1STAND_100</td>\n",
       "      <td>54.755307</td>\n",
       "      <td>-0.02304</td>\n",
       "      <td>54.766471</td>\n",
       "      <td>0.018516</td>\n",
       "    </tr>\n",
       "    <tr>\n",
       "      <th>3</th>\n",
       "      <td>RUNWAY_1STAND_101</td>\n",
       "      <td>54.755307</td>\n",
       "      <td>-0.02304</td>\n",
       "      <td>54.770003</td>\n",
       "      <td>0.020513</td>\n",
       "    </tr>\n",
       "    <tr>\n",
       "      <th>4</th>\n",
       "      <td>RUNWAY_1STAND_102</td>\n",
       "      <td>54.755307</td>\n",
       "      <td>-0.02304</td>\n",
       "      <td>54.769606</td>\n",
       "      <td>0.018924</td>\n",
       "    </tr>\n",
       "  </tbody>\n",
       "</table>\n",
       "</div>"
      ],
      "text/plain": [
       "        runway_stand  Lat_runway  Lng_runway  Lat_stand  Lng_stand\n",
       "0    RUNWAY_1STAND_1   54.755307    -0.02304  54.764575   0.000356\n",
       "1   RUNWAY_1STAND_10   54.755307    -0.02304  54.764382  -0.001061\n",
       "2  RUNWAY_1STAND_100   54.755307    -0.02304  54.766471   0.018516\n",
       "3  RUNWAY_1STAND_101   54.755307    -0.02304  54.770003   0.020513\n",
       "4  RUNWAY_1STAND_102   54.755307    -0.02304  54.769606   0.018924"
      ]
     },
     "execution_count": 17,
     "metadata": {},
     "output_type": "execute_result"
    }
   ],
   "source": [
    "df_geographic.head()"
   ]
  },
  {
   "cell_type": "code",
   "execution_count": 8,
   "metadata": {
    "ExecuteTime": {
     "end_time": "2020-10-01T19:51:43.958967Z",
     "start_time": "2020-10-01T19:51:43.950875Z"
    }
   },
   "outputs": [],
   "source": [
    "# Create the functions that compute distance between runways & stands in kilometers\n",
    "def degreesToRadians(degrees):\n",
    "    return degrees * np.pi / 180\n",
    "\n",
    "def distanceInMBetweenCoordinates(lat1, lon1, lat2, lon2):\n",
    "    earthRadiusKm = 6371;\n",
    "\n",
    "    dLat = degreesToRadians(lat2-lat1)\n",
    "    dLon = degreesToRadians(lon2-lon1)\n",
    "\n",
    "    lat1 = degreesToRadians(lat1)\n",
    "    lat2 = degreesToRadians(lat2)\n",
    "\n",
    "    calculation = np.sin(dLat/2) * np.sin(dLat/2) + np.sin(dLon/2) * np.sin(dLon/2) * np.cos(lat1) * np.cos(lat2) \n",
    "    distance = 2 * math.atan2(np.sqrt(calculation), np.sqrt(1-calculation)) \n",
    "    return earthRadiusKm * distance * 1000"
   ]
  },
  {
   "cell_type": "code",
   "execution_count": 9,
   "metadata": {
    "ExecuteTime": {
     "end_time": "2020-10-01T19:51:44.736733Z",
     "start_time": "2020-10-01T19:51:44.671170Z"
    }
   },
   "outputs": [],
   "source": [
    "# Compute the distance in the aircraft dataframe\n",
    "df_geographic['distance'] = df_geographic.apply(lambda x: distanceInMBetweenCoordinates(x.Lat_runway, x.Lng_runway, x.Lat_stand, x.Lng_stand), axis =1)"
   ]
  },
  {
   "cell_type": "code",
   "execution_count": 20,
   "metadata": {
    "ExecuteTime": {
     "end_time": "2020-10-01T19:51:44.961931Z",
     "start_time": "2020-10-01T19:51:44.924185Z"
    }
   },
   "outputs": [
    {
     "data": {
      "text/html": [
       "<div>\n",
       "<style scoped>\n",
       "    .dataframe tbody tr th:only-of-type {\n",
       "        vertical-align: middle;\n",
       "    }\n",
       "\n",
       "    .dataframe tbody tr th {\n",
       "        vertical-align: top;\n",
       "    }\n",
       "\n",
       "    .dataframe thead th {\n",
       "        text-align: right;\n",
       "    }\n",
       "</style>\n",
       "<table border=\"1\" class=\"dataframe\">\n",
       "  <thead>\n",
       "    <tr style=\"text-align: right;\">\n",
       "      <th></th>\n",
       "      <th>Lat_runway</th>\n",
       "      <th>Lng_runway</th>\n",
       "      <th>Lat_stand</th>\n",
       "      <th>Lng_stand</th>\n",
       "      <th>distance</th>\n",
       "    </tr>\n",
       "  </thead>\n",
       "  <tbody>\n",
       "    <tr>\n",
       "      <th>count</th>\n",
       "      <td>664.000000</td>\n",
       "      <td>664.000000</td>\n",
       "      <td>664.000000</td>\n",
       "      <td>664.000000</td>\n",
       "      <td>664.000000</td>\n",
       "    </tr>\n",
       "    <tr>\n",
       "      <th>mean</th>\n",
       "      <td>54.758773</td>\n",
       "      <td>-0.004747</td>\n",
       "      <td>54.767037</td>\n",
       "      <td>0.009493</td>\n",
       "      <td>1730.470344</td>\n",
       "    </tr>\n",
       "    <tr>\n",
       "      <th>std</th>\n",
       "      <td>0.002643</td>\n",
       "      <td>0.019280</td>\n",
       "      <td>0.003191</td>\n",
       "      <td>0.009616</td>\n",
       "      <td>897.514890</td>\n",
       "    </tr>\n",
       "    <tr>\n",
       "      <th>min</th>\n",
       "      <td>54.755307</td>\n",
       "      <td>-0.024107</td>\n",
       "      <td>54.761081</td>\n",
       "      <td>-0.009674</td>\n",
       "      <td>158.869217</td>\n",
       "    </tr>\n",
       "    <tr>\n",
       "      <th>25%</th>\n",
       "      <td>54.756667</td>\n",
       "      <td>-0.023307</td>\n",
       "      <td>54.764575</td>\n",
       "      <td>0.003887</td>\n",
       "      <td>992.633820</td>\n",
       "    </tr>\n",
       "    <tr>\n",
       "      <th>50%</th>\n",
       "      <td>54.759147</td>\n",
       "      <td>-0.007360</td>\n",
       "      <td>54.766618</td>\n",
       "      <td>0.009772</td>\n",
       "      <td>1461.000769</td>\n",
       "    </tr>\n",
       "    <tr>\n",
       "      <th>75%</th>\n",
       "      <td>54.761253</td>\n",
       "      <td>0.011200</td>\n",
       "      <td>54.769606</td>\n",
       "      <td>0.018498</td>\n",
       "      <td>2578.251494</td>\n",
       "    </tr>\n",
       "    <tr>\n",
       "      <th>max</th>\n",
       "      <td>54.761493</td>\n",
       "      <td>0.019840</td>\n",
       "      <td>54.773947</td>\n",
       "      <td>0.026379</td>\n",
       "      <td>3321.122245</td>\n",
       "    </tr>\n",
       "  </tbody>\n",
       "</table>\n",
       "</div>"
      ],
      "text/plain": [
       "       Lat_runway  Lng_runway   Lat_stand   Lng_stand     distance\n",
       "count  664.000000  664.000000  664.000000  664.000000   664.000000\n",
       "mean    54.758773   -0.004747   54.767037    0.009493  1730.470344\n",
       "std      0.002643    0.019280    0.003191    0.009616   897.514890\n",
       "min     54.755307   -0.024107   54.761081   -0.009674   158.869217\n",
       "25%     54.756667   -0.023307   54.764575    0.003887   992.633820\n",
       "50%     54.759147   -0.007360   54.766618    0.009772  1461.000769\n",
       "75%     54.761253    0.011200   54.769606    0.018498  2578.251494\n",
       "max     54.761493    0.019840   54.773947    0.026379  3321.122245"
      ]
     },
     "execution_count": 20,
     "metadata": {},
     "output_type": "execute_result"
    }
   ],
   "source": [
    "df_geographic.describe()"
   ]
  },
  {
   "cell_type": "code",
   "execution_count": 21,
   "metadata": {
    "ExecuteTime": {
     "end_time": "2020-10-01T19:51:45.321013Z",
     "start_time": "2020-10-01T19:51:45.314663Z"
    }
   },
   "outputs": [
    {
     "data": {
      "text/plain": [
       "runway_stand    0\n",
       "Lat_runway      0\n",
       "Lng_runway      0\n",
       "Lat_stand       0\n",
       "Lng_stand       0\n",
       "distance        0\n",
       "dtype: int64"
      ]
     },
     "execution_count": 21,
     "metadata": {},
     "output_type": "execute_result"
    }
   ],
   "source": [
    "#NA search: No NA to clean\n",
    "df_geographic.isnull().sum()"
   ]
  },
  {
   "cell_type": "code",
   "execution_count": 22,
   "metadata": {
    "ExecuteTime": {
     "end_time": "2020-10-01T19:51:45.736502Z",
     "start_time": "2020-10-01T19:51:45.574115Z"
    }
   },
   "outputs": [
    {
     "data": {
      "image/png": "[encoded data removed]",
      "text/plain": [
       "<Figure size 432x288 with 1 Axes>"
      ]
     },
     "metadata": {
      "needs_background": "light"
     },
     "output_type": "display_data"
    }
   ],
   "source": [
    "#Outliers search - there seems to be no outlier \n",
    "ax = sns.boxplot(df_geographic[\"distance\"])"
   ]
  },
  {
   "cell_type": "code",
   "execution_count": 23,
   "metadata": {
    "ExecuteTime": {
     "end_time": "2020-10-01T19:51:46.070191Z",
     "start_time": "2020-10-01T19:51:45.788819Z"
    }
   },
   "outputs": [
    {
     "data": {
      "text/plain": [
       "<matplotlib.axes._subplots.AxesSubplot at 0x7fa976d82250>"
      ]
     },
     "execution_count": 23,
     "metadata": {},
     "output_type": "execute_result"
    },
    {
     "data": {
      "image/png": "[encoded data removed]",
      "text/plain": [
       "<Figure size 432x288 with 1 Axes>"
      ]
     },
     "metadata": {
      "needs_background": "light"
     },
     "output_type": "display_data"
    }
   ],
   "source": [
    "sns.distplot(df_geographic[\"distance\"])"
   ]
  },
  {
   "cell_type": "code",
   "execution_count": 24,
   "metadata": {
    "ExecuteTime": {
     "end_time": "2020-10-01T19:51:46.084202Z",
     "start_time": "2020-10-01T19:51:46.073979Z"
    }
   },
   "outputs": [],
   "source": [
    "df_geographic = df_geographic[['runway_stand', 'distance']]"
   ]
  },
  {
   "cell_type": "markdown",
   "metadata": {},
   "source": [
    "### EDA of the weather dataset"
   ]
  },
  {
   "cell_type": "code",
   "execution_count": 25,
   "metadata": {
    "ExecuteTime": {
     "end_time": "2020-10-01T19:51:46.952768Z",
     "start_time": "2020-10-01T19:51:46.921811Z"
    }
   },
   "outputs": [
    {
     "data": {
      "text/html": [
       "<div>\n",
       "<style scoped>\n",
       "    .dataframe tbody tr th:only-of-type {\n",
       "        vertical-align: middle;\n",
       "    }\n",
       "\n",
       "    .dataframe tbody tr th {\n",
       "        vertical-align: top;\n",
       "    }\n",
       "\n",
       "    .dataframe thead th {\n",
       "        text-align: right;\n",
       "    }\n",
       "</style>\n",
       "<table border=\"1\" class=\"dataframe\">\n",
       "  <thead>\n",
       "    <tr style=\"text-align: right;\">\n",
       "      <th></th>\n",
       "      <th>time_hourly</th>\n",
       "      <th>summary</th>\n",
       "      <th>icon</th>\n",
       "      <th>precipIntensity</th>\n",
       "      <th>precipProbability</th>\n",
       "      <th>temperature</th>\n",
       "      <th>apparentTemperature</th>\n",
       "      <th>dewPoint</th>\n",
       "      <th>humidity</th>\n",
       "      <th>pressure</th>\n",
       "      <th>windSpeed</th>\n",
       "      <th>windGust</th>\n",
       "      <th>windBearing</th>\n",
       "      <th>cloudCover</th>\n",
       "      <th>uvIndex</th>\n",
       "      <th>visibility</th>\n",
       "      <th>precipType</th>\n",
       "      <th>precipAccumulation</th>\n",
       "      <th>ozone</th>\n",
       "    </tr>\n",
       "  </thead>\n",
       "  <tbody>\n",
       "    <tr>\n",
       "      <th>0</th>\n",
       "      <td>1/1/2015 6:00</td>\n",
       "      <td>Mostly Cloudy</td>\n",
       "      <td>partly-cloudy-night</td>\n",
       "      <td>0.0</td>\n",
       "      <td>0.0</td>\n",
       "      <td>44.65</td>\n",
       "      <td>39.29</td>\n",
       "      <td>42.8</td>\n",
       "      <td>0.93</td>\n",
       "      <td>1031.6</td>\n",
       "      <td>10.29</td>\n",
       "      <td>11.39</td>\n",
       "      <td>210.0</td>\n",
       "      <td>0.75</td>\n",
       "      <td>0.0</td>\n",
       "      <td>5.859</td>\n",
       "      <td>None</td>\n",
       "      <td>0.0</td>\n",
       "      <td>310.4</td>\n",
       "    </tr>\n",
       "    <tr>\n",
       "      <th>1</th>\n",
       "      <td>1/1/2015 6:00</td>\n",
       "      <td>Mostly Cloudy</td>\n",
       "      <td>partly-cloudy-night</td>\n",
       "      <td>0.0</td>\n",
       "      <td>0.0</td>\n",
       "      <td>44.65</td>\n",
       "      <td>39.29</td>\n",
       "      <td>42.8</td>\n",
       "      <td>0.93</td>\n",
       "      <td>1031.6</td>\n",
       "      <td>10.29</td>\n",
       "      <td>11.39</td>\n",
       "      <td>210.0</td>\n",
       "      <td>0.75</td>\n",
       "      <td>0.0</td>\n",
       "      <td>5.859</td>\n",
       "      <td>None</td>\n",
       "      <td>0.0</td>\n",
       "      <td>310.4</td>\n",
       "    </tr>\n",
       "    <tr>\n",
       "      <th>2</th>\n",
       "      <td>1/1/2015 6:00</td>\n",
       "      <td>Mostly Cloudy</td>\n",
       "      <td>partly-cloudy-night</td>\n",
       "      <td>0.0</td>\n",
       "      <td>0.0</td>\n",
       "      <td>44.65</td>\n",
       "      <td>39.29</td>\n",
       "      <td>42.8</td>\n",
       "      <td>0.93</td>\n",
       "      <td>1031.6</td>\n",
       "      <td>10.29</td>\n",
       "      <td>11.39</td>\n",
       "      <td>210.0</td>\n",
       "      <td>0.75</td>\n",
       "      <td>0.0</td>\n",
       "      <td>5.859</td>\n",
       "      <td>None</td>\n",
       "      <td>0.0</td>\n",
       "      <td>310.4</td>\n",
       "    </tr>\n",
       "    <tr>\n",
       "      <th>3</th>\n",
       "      <td>1/1/2015 6:00</td>\n",
       "      <td>Mostly Cloudy</td>\n",
       "      <td>partly-cloudy-night</td>\n",
       "      <td>0.0</td>\n",
       "      <td>0.0</td>\n",
       "      <td>44.65</td>\n",
       "      <td>39.29</td>\n",
       "      <td>42.8</td>\n",
       "      <td>0.93</td>\n",
       "      <td>1031.6</td>\n",
       "      <td>10.29</td>\n",
       "      <td>11.39</td>\n",
       "      <td>210.0</td>\n",
       "      <td>0.75</td>\n",
       "      <td>0.0</td>\n",
       "      <td>5.859</td>\n",
       "      <td>None</td>\n",
       "      <td>0.0</td>\n",
       "      <td>310.4</td>\n",
       "    </tr>\n",
       "    <tr>\n",
       "      <th>4</th>\n",
       "      <td>1/1/2015 6:00</td>\n",
       "      <td>Mostly Cloudy</td>\n",
       "      <td>partly-cloudy-night</td>\n",
       "      <td>0.0</td>\n",
       "      <td>0.0</td>\n",
       "      <td>44.65</td>\n",
       "      <td>39.29</td>\n",
       "      <td>42.8</td>\n",
       "      <td>0.93</td>\n",
       "      <td>1031.6</td>\n",
       "      <td>10.29</td>\n",
       "      <td>11.39</td>\n",
       "      <td>210.0</td>\n",
       "      <td>0.75</td>\n",
       "      <td>0.0</td>\n",
       "      <td>5.859</td>\n",
       "      <td>None</td>\n",
       "      <td>0.0</td>\n",
       "      <td>310.4</td>\n",
       "    </tr>\n",
       "  </tbody>\n",
       "</table>\n",
       "</div>"
      ],
      "text/plain": [
       "     time_hourly        summary                 icon  precipIntensity  \\\n",
       "0  1/1/2015 6:00  Mostly Cloudy  partly-cloudy-night              0.0   \n",
       "1  1/1/2015 6:00  Mostly Cloudy  partly-cloudy-night              0.0   \n",
       "2  1/1/2015 6:00  Mostly Cloudy  partly-cloudy-night              0.0   \n",
       "3  1/1/2015 6:00  Mostly Cloudy  partly-cloudy-night              0.0   \n",
       "4  1/1/2015 6:00  Mostly Cloudy  partly-cloudy-night              0.0   \n",
       "\n",
       "   precipProbability  temperature  apparentTemperature  dewPoint  humidity  \\\n",
       "0                0.0        44.65                39.29      42.8      0.93   \n",
       "1                0.0        44.65                39.29      42.8      0.93   \n",
       "2                0.0        44.65                39.29      42.8      0.93   \n",
       "3                0.0        44.65                39.29      42.8      0.93   \n",
       "4                0.0        44.65                39.29      42.8      0.93   \n",
       "\n",
       "   pressure  windSpeed  windGust  windBearing  cloudCover  uvIndex  \\\n",
       "0    1031.6      10.29     11.39        210.0        0.75      0.0   \n",
       "1    1031.6      10.29     11.39        210.0        0.75      0.0   \n",
       "2    1031.6      10.29     11.39        210.0        0.75      0.0   \n",
       "3    1031.6      10.29     11.39        210.0        0.75      0.0   \n",
       "4    1031.6      10.29     11.39        210.0        0.75      0.0   \n",
       "\n",
       "   visibility precipType  precipAccumulation  ozone  \n",
       "0       5.859       None                 0.0  310.4  \n",
       "1       5.859       None                 0.0  310.4  \n",
       "2       5.859       None                 0.0  310.4  \n",
       "3       5.859       None                 0.0  310.4  \n",
       "4       5.859       None                 0.0  310.4  "
      ]
     },
     "execution_count": 25,
     "metadata": {},
     "output_type": "execute_result"
    }
   ],
   "source": [
    "df_weather.head()"
   ]
  },
  {
   "cell_type": "code",
   "execution_count": 10,
   "metadata": {
    "ExecuteTime": {
     "end_time": "2020-10-01T19:51:47.493061Z",
     "start_time": "2020-10-01T19:51:47.230560Z"
    }
   },
   "outputs": [],
   "source": [
    "#Convert date string into date format\n",
    "df_weather['time_hourly'] =  pd.to_datetime(df_weather['time_hourly'], format='%m/%d/%Y %H:%M')"
   ]
  },
  {
   "cell_type": "code",
   "execution_count": 11,
   "metadata": {
    "ExecuteTime": {
     "end_time": "2020-10-01T19:52:12.994047Z",
     "start_time": "2020-10-01T19:51:47.658448Z"
    }
   },
   "outputs": [],
   "source": [
    "#Rename the columns\n",
    "df_weather.rename(columns={'time_hourly':'AOBT_hourly'}, \n",
    "                 inplace=True)\n",
    "\n",
    "#Create hourly AOBT in airport data to join with weather data\n",
    "\n",
    "def hour_rounder(t):\n",
    "    # Rounds to nearest hour by adding a timedelta hour if minute >= 30\n",
    "    return (t.replace(second=0, microsecond=0, minute=0, hour=t.hour)\n",
    "               +timedelta(hours=t.minute//30))\n",
    "\n",
    "# Compute the distance in the aircraft dataframe\n",
    "df_airport['AOBT_hourly'] = df_airport.apply(lambda x: hour_rounder(x.AOBT), axis =1)"
   ]
  },
  {
   "cell_type": "code",
   "execution_count": 12,
   "metadata": {
    "ExecuteTime": {
     "end_time": "2020-10-01T19:52:13.620042Z",
     "start_time": "2020-10-01T19:52:12.996555Z"
    }
   },
   "outputs": [],
   "source": [
    "df_weather = df_weather.drop_duplicates()"
   ]
  },
  {
   "cell_type": "code",
   "execution_count": null,
   "metadata": {
    "ExecuteTime": {
     "end_time": "2020-10-01T19:52:17.263571Z",
     "start_time": "2020-10-01T19:52:17.170509Z"
    }
   },
   "outputs": [],
   "source": [
    "df_weather.describe()"
   ]
  },
  {
   "cell_type": "markdown",
   "metadata": {},
   "source": [
    "### EDA of the aircraft dataset"
   ]
  },
  {
   "cell_type": "code",
   "execution_count": null,
   "metadata": {
    "ExecuteTime": {
     "end_time": "2020-10-01T19:52:18.148460Z",
     "start_time": "2020-10-01T19:52:18.123819Z"
    }
   },
   "outputs": [],
   "source": [
    "df_aircraft.head()"
   ]
  },
  {
   "cell_type": "code",
   "execution_count": null,
   "metadata": {
    "ExecuteTime": {
     "end_time": "2020-10-01T19:52:18.440434Z",
     "start_time": "2020-10-01T19:52:18.428750Z"
    }
   },
   "outputs": [],
   "source": [
    "len(df_aircraft)"
   ]
  },
  {
   "cell_type": "markdown",
   "metadata": {},
   "source": [
    "## Data analysis"
   ]
  },
  {
   "cell_type": "markdown",
   "metadata": {},
   "source": [
    "### Combining all datasets"
   ]
  },
  {
   "cell_type": "code",
   "execution_count": 13,
   "metadata": {
    "ExecuteTime": {
     "end_time": "2020-10-01T19:53:20.098636Z",
     "start_time": "2020-10-01T19:53:19.076766Z"
    }
   },
   "outputs": [],
   "source": [
    "#Let's combine our training set with the aircraft dataset (the key is the model)\n",
    "df_train = pd.merge(df_airport, df_aircraft ,on='aircraft_model',how='left')\n",
    "\n",
    "#Let's combine our training set with the geographic dataset (the key is the runway & the stand)\n",
    "df_train['runway_stand'] = df_train['Runway'] + df_train['Stand']\n",
    "df_train = pd.merge(df_train, df_geographic ,on='runway_stand',how='left')\n",
    "\n",
    "#Let's combine our training set with the weather dataset (the key is the datetime)\n",
    "df_train = pd.merge(df_train, df_weather ,on = 'AOBT_hourly', how='left')"
   ]
  },
  {
   "cell_type": "markdown",
   "metadata": {},
   "source": [
    "### Correlation analysis"
   ]
  },
  {
   "cell_type": "code",
   "execution_count": null,
   "metadata": {
    "ExecuteTime": {
     "end_time": "2020-10-01T19:53:21.405695Z",
     "start_time": "2020-10-01T19:53:21.370609Z"
    }
   },
   "outputs": [],
   "source": [
    "df_train.head()"
   ]
  },
  {
   "cell_type": "code",
   "execution_count": 13,
   "metadata": {
    "ExecuteTime": {
     "end_time": "2020-10-01T19:53:25.308862Z",
     "start_time": "2020-10-01T19:53:22.961371Z"
    }
   },
   "outputs": [
    {
     "data": {
      "image/png": "[encoded data removed]",
      "text/plain": [
       "<Figure size 1296x864 with 2 Axes>"
      ]
     },
     "metadata": {
      "needs_background": "light"
     },
     "output_type": "display_data"
    }
   ],
   "source": [
    "#Display the correlation matrix between the variables \n",
    "base_correlation = df_train.drop(['flight_dt', 'AOBT', 'ATOT', 'AOBT_hourly'], axis=1)\n",
    "corrMatrix = base_correlation.corr()\n",
    "plt.figure(figsize = (18,12))\n",
    "sns.heatmap(corrMatrix, annot=True, square=True, linewidths=.3)\n",
    "# fix for mpl bug that cuts off top/bottom of seaborn viz\n",
    "b, t = plt.ylim() # discover the values for bottom and top\n",
    "b += 0.5 # Add 0.5 to the bottom\n",
    "t -= 0.5 # Subtract 0.5 from the top\n",
    "plt.ylim(b, t) # update the ylim(bottom, top) values\n",
    "plt.show()"
   ]
  },
  {
   "cell_type": "code",
   "execution_count": null,
   "metadata": {
    "ExecuteTime": {
     "end_time": "2020-10-01T19:55:34.869399Z",
     "start_time": "2020-10-01T19:53:26.481624Z"
    }
   },
   "outputs": [
    {
     "name": "stderr",
     "output_type": "stream",
     "text": [
      "/opt/conda/lib/python3.7/site-packages/seaborn/distributions.py:369: UserWarning: Default bandwidth for data is 0; skipping density estimation.\n",
      "  warnings.warn(msg, UserWarning)\n"
     ]
    }
   ],
   "source": [
    "base_pairplot = df_train[['taxitime', 'distance', 'pressure', 'windSpeed', 'precipAccumulation', 'temperature']]\n",
    "plt.figure(figsize=(14, 14))\n",
    "\n",
    "sns.pairplot(base_pairplot, diag_kind='kde')"
   ]
  },
  {
   "cell_type": "markdown",
   "metadata": {},
   "source": [
    "### Time series analysis"
   ]
  },
  {
   "cell_type": "code",
   "execution_count": 14,
   "metadata": {
    "ExecuteTime": {
     "end_time": "2020-10-01T19:55:35.293662Z",
     "start_time": "2020-10-01T19:55:34.871804Z"
    }
   },
   "outputs": [],
   "source": [
    "# Set date as index\n",
    "df_ts = df_train.set_index('AOBT')\n",
    "df_ts = df_ts.drop(['flight_dt', 'ATOT', 'AOBT_hourly'], axis=1)"
   ]
  },
  {
   "cell_type": "code",
   "execution_count": null,
   "metadata": {
    "ExecuteTime": {
     "end_time": "2020-10-01T19:55:35.744774Z",
     "start_time": "2020-10-01T19:55:35.296966Z"
    }
   },
   "outputs": [],
   "source": [
    "#The models ARIMA etc won't work on this data where no pattern can be found\n",
    "plt.figure(figsize=(20,12)) #set the figure size\n",
    "\n",
    "plt.subplot(2, 1, 1)\n",
    "values_1 = df_ts[['taxitime']].values\n",
    "plt.plot(values_1[300:700], color = 'red')    \n",
    "plt.title('taxitime', y=0.5, loc='left')\n",
    "\n",
    "plt.subplot(2, 1, 2)\n",
    "values_2 = df_ts[['taxitime']].values\n",
    "plt.plot(values_2[5000:5300])    \n",
    "plt.title('taxitime', y=0.5, loc='left')\n",
    "\n",
    "plt.show()"
   ]
  },
  {
   "cell_type": "markdown",
   "metadata": {},
   "source": [
    "# DATA PREPARATION"
   ]
  },
  {
   "cell_type": "markdown",
   "metadata": {},
   "source": [
    "## Data cleaning"
   ]
  },
  {
   "cell_type": "markdown",
   "metadata": {
    "ExecuteTime": {
     "end_time": "2020-09-29T11:51:00.519841Z",
     "start_time": "2020-09-29T11:51:00.516536Z"
    }
   },
   "source": [
    "### Missing values cleaning"
   ]
  },
  {
   "cell_type": "code",
   "execution_count": null,
   "metadata": {
    "ExecuteTime": {
     "end_time": "2020-10-01T19:56:02.480516Z",
     "start_time": "2020-10-01T19:56:02.155601Z"
    }
   },
   "outputs": [],
   "source": [
    "df_train.isnull().sum()"
   ]
  },
  {
   "cell_type": "code",
   "execution_count": 15,
   "metadata": {
    "ExecuteTime": {
     "end_time": "2020-10-01T19:56:04.730561Z",
     "start_time": "2020-10-01T19:56:04.332982Z"
    }
   },
   "outputs": [],
   "source": [
    "#We can drop the missing values for all the column where they correspond to delete (because less than 1% of the huge dataset)\n",
    "subset_delete = ['Manufacturer', 'Engines', 'Wingspan__ft', 'Length__ft', 'Tail_Height__ft', \n",
    "                'Wheelbase__ft', 'Wake_Category', 'temperature', 'apparentTemperature', 'dewPoint', 'humidity',\n",
    "                'windSpeed', 'visibility', 'precipType', 'precipAccumulation', 'ozone']\n",
    "df_train = df_train.dropna(subset = subset_delete)"
   ]
  },
  {
   "cell_type": "code",
   "execution_count": 16,
   "metadata": {
    "ExecuteTime": {
     "end_time": "2020-10-01T19:56:05.793933Z",
     "start_time": "2020-10-01T19:56:04.922648Z"
    }
   },
   "outputs": [],
   "source": [
    "#For the remaining NAs value (weather data), \n",
    "#we are going to use the method fillna assuming that the weather does not change as much from one hour to another\n",
    "df_train = df_train.fillna(method='ffill')"
   ]
  },
  {
   "cell_type": "markdown",
   "metadata": {},
   "source": [
    "### Deal with the outliers of taxitime"
   ]
  },
  {
   "cell_type": "code",
   "execution_count": 17,
   "metadata": {
    "ExecuteTime": {
     "end_time": "2020-10-01T19:56:07.863564Z",
     "start_time": "2020-10-01T19:56:07.721999Z"
    }
   },
   "outputs": [],
   "source": [
    "#From the EDA and the Outliers search for the variable to predict - there seems to be some outliers \n",
    "# For some outliers the ATOT is before the AOBT: there is a mistake so we should delete them\n",
    "\n",
    "#Delete the taxitime < 0 (we assume that there is a mistake)\n",
    "df_train = df_train[df_train[\"taxitime\"] > 0]\n",
    "\n"
   ]
  },
  {
   "cell_type": "code",
   "execution_count": 18,
   "metadata": {
    "ExecuteTime": {
     "end_time": "2020-10-01T19:56:08.524891Z",
     "start_time": "2020-10-01T19:56:08.389624Z"
    }
   },
   "outputs": [
    {
     "name": "stdout",
     "output_type": "stream",
     "text": [
      "7171\n"
     ]
    }
   ],
   "source": [
    "# For the others, we will use Z-score strategy to identify Data point that falls outside of 3 standard deviations \n",
    "z_score = np.abs(stats.zscore(df_train.taxitime))\n",
    "threshold = 3\n",
    "print(len(np.where(z_score > 3)[0]))\n",
    "\n",
    "df_train = df_train[(z_score< 3)]"
   ]
  },
  {
   "cell_type": "code",
   "execution_count": null,
   "metadata": {
    "ExecuteTime": {
     "end_time": "2020-10-01T19:56:09.615710Z",
     "start_time": "2020-10-01T19:56:09.301628Z"
    }
   },
   "outputs": [],
   "source": [
    "df_train"
   ]
  },
  {
   "cell_type": "markdown",
   "metadata": {},
   "source": [
    "## Features engineering"
   ]
  },
  {
   "cell_type": "markdown",
   "metadata": {},
   "source": [
    "### Computing log(distance)"
   ]
  },
  {
   "cell_type": "code",
   "execution_count": 19,
   "metadata": {
    "ExecuteTime": {
     "end_time": "2020-10-01T19:56:11.919083Z",
     "start_time": "2020-10-01T19:56:11.908905Z"
    }
   },
   "outputs": [],
   "source": [
    "df_train['log_distance'] = np.log(df_train['distance'])"
   ]
  },
  {
   "cell_type": "code",
   "execution_count": null,
   "metadata": {
    "ExecuteTime": {
     "end_time": "2020-10-01T19:56:12.517573Z",
     "start_time": "2020-10-01T19:56:12.473797Z"
    }
   },
   "outputs": [],
   "source": [
    "df_train.head()"
   ]
  },
  {
   "cell_type": "markdown",
   "metadata": {},
   "source": [
    "### Computing Q and N"
   ]
  },
  {
   "cell_type": "code",
   "execution_count": null,
   "metadata": {
    "ExecuteTime": {
     "end_time": "2020-10-01T19:58:13.708982Z",
     "start_time": "2020-10-01T19:56:14.057204Z"
    }
   },
   "outputs": [
    {
     "name": "stdout",
     "output_type": "stream",
     "text": [
      "Row number:  0 / Running time:  0.029689311981201172\n"
     ]
    }
   ],
   "source": [
    "## ATTEMPT USING PARALLELIZATION OF COMPUTATION\n",
    "import time\n",
    "\n",
    "#Checking if a date is in the interval [date1,date2]\n",
    "def CheckDateInInterval(date,date1,date2):\n",
    "    if date >= date1 and date2 >= date:\n",
    "        return 1\n",
    "    else:\n",
    "        return 0\n",
    "\n",
    "#Initializing N & Q list\n",
    "Q_list = []\n",
    "N_list = []\n",
    "\n",
    "#Creating one list of all AOBTs and one list of all ATOTs\n",
    "interval_list1 = list(df_airport['AOBT'])\n",
    "interval_list2 = list(df_airport['ATOT'])\n",
    "\n",
    "start_time = time.time()\n",
    "\n",
    "#We take as a window the number of Stands in the airport (166)\n",
    "# Here we assume at most, there is as much airplanes in taxitime at the same time than the number of stands \n",
    "window = len(df_airport['Stand'].unique())\n",
    "\n",
    "for row in range(len(df_airport)):\n",
    "    #Setting the AOBT and ATOT of a given row\n",
    "    AOBT = interval_list1[row]\n",
    "    ATOT = interval_list2[row]\n",
    "    \n",
    "    #Defining the min and max rows in the dataframe this iteration will have to consider\n",
    "    min_row = max(0, row - window)\n",
    "    max_row = min(row + window, len(df_airport))\n",
    "    \n",
    "    short_list1 = interval_list1[min_row : max_row]\n",
    "    short_list2 = interval_list2[min_row : max_row]\n",
    "    \n",
    "    #Creating a list of Booleans where there is 1 if for this iteration the row meets the condition for N\n",
    "    N_boolean = map(lambda x, y : CheckDateInInterval(AOBT, x, y), short_list1, short_list2)\n",
    "    #Computing the sum of the airplane satisfying the condition for N\n",
    "    N_number = max(sum(list(N_boolean))-1, 0)\n",
    "    N_list.append(N_number)\n",
    "\n",
    "    #Creating a list of Booleans where there is 1 if for this iteration the row meets the condition for Q\n",
    "    Q_boolean = map(lambda y : CheckDateInInterval(y, AOBT, ATOT), short_list2)\n",
    "    #Computing the sum of the airplane satisfying the condition for Q\n",
    "    Q_number = max(0, sum(list(Q_boolean))-1)\n",
    "    Q_list.append(Q_number)\n",
    "    \n",
    "    if row % 50000 == 0:\n",
    "        running_time = time.time() - start_time\n",
    "        print(\"Row number: \", row, \"/ Running time: \" , running_time)\n",
    "\n",
    "df_airport['N'] = N_list        \n",
    "df_airport['Q'] = Q_list"
   ]
  },
  {
   "cell_type": "code",
   "execution_count": null,
   "metadata": {
    "ExecuteTime": {
     "end_time": "2020-10-01T19:58:13.972532Z",
     "start_time": "2020-10-01T19:58:13.712041Z"
    }
   },
   "outputs": [],
   "source": [
    "df_airport.describe()"
   ]
  },
  {
   "cell_type": "markdown",
   "metadata": {},
   "source": [
    "### Converting Date data"
   ]
  },
  {
   "cell_type": "code",
   "execution_count": null,
   "metadata": {
    "ExecuteTime": {
     "end_time": "2020-10-01T19:58:51.344698Z",
     "start_time": "2020-10-01T19:58:51.306690Z"
    }
   },
   "outputs": [],
   "source": [
    "df_train.head()"
   ]
  },
  {
   "cell_type": "code",
   "execution_count": null,
   "metadata": {
    "ExecuteTime": {
     "end_time": "2020-10-01T19:58:52.545181Z",
     "start_time": "2020-10-01T19:58:52.348271Z"
    },
    "scrolled": true
   },
   "outputs": [],
   "source": [
    "pi = np.pi\n",
    "\n",
    "\n",
    "def date_transfo(df):\n",
    "#Transform Date into several column\n",
    "    df['weekday'] = df['AOBT'].dt.weekday\n",
    "    df['hour'] = df['AOBT'].dt.hour\n",
    "    df['weeknum'] = df['AOBT'].dt.week\n",
    "    df['night'] = (df['hour'] < 6) + (df['hour'] > 22)*1\n",
    "    df['morning'] = (df['hour'] > 6) * (df['hour'] < 12)*1\n",
    "    df['midday'] = (df['hour'] > 12) * (df['hour'] < 14)*1\n",
    "    df['afternoon'] = (df['hour'] > 14) * (df['hour'] < 18)*1\n",
    "    df['evening'] = (df['hour'] > 18) * (df['hour'] < 22)*1\n",
    "    df['weekend'] = (df['weekday'] > 4)*1\n",
    "    \n",
    "    # Get circular hour\n",
    "    df['hour_sin'] = np.sin(pi* df['hour'].astype(np.float64) /12)\n",
    "    df['hour_cos'] = np.cos(pi* df['hour'].astype(np.float64) /12)\n",
    "    df['week_sin'] = np.sin(pi* df['weeknum'].astype(np.float64) /26)\n",
    "    df['week_cos'] = np.cos(pi* df['weeknum'].astype(np.float64) /26)\n",
    "\n",
    "    return(df)\n",
    "\n",
    "df_train = date_transfo(df_train)"
   ]
  },
  {
   "cell_type": "markdown",
   "metadata": {},
   "source": [
    "## Split into train and test sets"
   ]
  },
  {
   "cell_type": "code",
   "execution_count": null,
   "metadata": {
    "ExecuteTime": {
     "end_time": "2020-10-01T19:58:56.084250Z",
     "start_time": "2020-10-01T19:58:55.351132Z"
    }
   },
   "outputs": [],
   "source": [
    "#Split the dataset into X & y (where y is the variable to predict)\n",
    "df_y = df_train['taxitime']\n",
    "df_X = df_train.drop(['taxitime'], axis=1)"
   ]
  },
  {
   "cell_type": "code",
   "execution_count": null,
   "metadata": {
    "ExecuteTime": {
     "end_time": "2020-10-01T19:58:56.306541Z",
     "start_time": "2020-10-01T19:58:56.271707Z"
    }
   },
   "outputs": [],
   "source": [
    "df_X.head()"
   ]
  },
  {
   "cell_type": "code",
   "execution_count": null,
   "metadata": {
    "ExecuteTime": {
     "end_time": "2020-10-01T19:58:57.776043Z",
     "start_time": "2020-10-01T19:58:57.167480Z"
    }
   },
   "outputs": [],
   "source": [
    "#Delete useless columns\n",
    "df_X.set_index('AOBT')\n",
    "df_X = df_X.drop(['flight_dt', 'aircraft_model', 'ATOT', 'AOBT_hourly', 'Manufacturer'], axis = 1)"
   ]
  },
  {
   "cell_type": "code",
   "execution_count": null,
   "metadata": {
    "ExecuteTime": {
     "end_time": "2020-10-01T19:58:58.710961Z",
     "start_time": "2020-10-01T19:58:58.025646Z"
    }
   },
   "outputs": [],
   "source": [
    "# Split test & train randomly\n",
    "X_train, X_test, y_train, y_test = train_test_split(\n",
    "     df_X, df_y, test_size=0.2, random_state=42)"
   ]
  },
  {
   "cell_type": "code",
   "execution_count": null,
   "metadata": {
    "ExecuteTime": {
     "end_time": "2020-10-01T20:07:09.930767Z",
     "start_time": "2020-10-01T20:06:39.851216Z"
    }
   },
   "outputs": [],
   "source": [
    "df_X.to_csv('clean_training_set.csv.zip', index=False,\n",
    "          compression='gzip')"
   ]
  },
  {
   "cell_type": "markdown",
   "metadata": {},
   "source": [
    "## Features importance & selection"
   ]
  },
  {
   "cell_type": "markdown",
   "metadata": {},
   "source": [
    "## Training dataset master creation"
   ]
  },
  {
   "cell_type": "code",
   "execution_count": null,
   "metadata": {},
   "outputs": [],
   "source": []
  }
 ],
 "metadata": {
  "hide_input": false,
  "kernelspec": {
   "display_name": "Python 3",
   "language": "python",
   "name": "python3"
  },
  "language_info": {
   "codemirror_mode": {
    "name": "ipython",
    "version": 3
   },
   "file_extension": ".py",
   "mimetype": "text/x-python",
   "name": "python",
   "nbconvert_exporter": "python",
   "pygments_lexer": "ipython3",
   "version": "3.7.7"
  },
  "toc": {
   "base_numbering": 1,
   "nav_menu": {},
   "number_sections": true,
   "sideBar": true,
   "skip_h1_title": false,
   "title_cell": "Table of Contents",
   "title_sidebar": "Contents",
   "toc_cell": false,
   "toc_position": {
    "height": "calc(100% - 180px)",
    "left": "10px",
    "top": "150px",
    "width": "288px"
   },
   "toc_section_display": true,
   "toc_window_display": true
  }
 },
 "nbformat": 4,
 "nbformat_minor": 4
}
